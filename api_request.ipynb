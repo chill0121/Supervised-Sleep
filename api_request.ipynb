{
 "cells": [
  {
   "cell_type": "code",
   "execution_count": 148,
   "metadata": {},
   "outputs": [],
   "source": [
    "import requests\n",
    "import json\n",
    "import os\n",
    "from datetime import datetime\n",
    "\n",
    "# Load private token for API access.\n",
    "# TODO: Assert token exists.\n",
    "with open('private_token.json') as f:\n",
    "    private_token = json.load(f)\n",
    "\n",
    "# Check/create folder for API pull data.\n",
    "cwd = os.getcwd()\n",
    "data_path = cwd + '/api_data'\n",
    "os.makedirs(data_path, exist_ok=True)\n",
    "\n",
    "# TODO: [X] Start logging last API pull date to change start_date.\n",
    "# Also need to ensure it isn't capturing half days or deals with it.\n",
    "# Find previous date range from last API pull.\n",
    "data_list = os.listdir(data_path)\n",
    "today = datetime.today().strftime('%Y-%m-%d')\n",
    "\n",
    "# Check if no previous data exists, then request from earliest date.\n",
    "if len(data_list) == 0:\n",
    "    params = {'start_date': '2025-02-03', # Real beginning - 2023-02-03\n",
    "            'end_date': f'{today}'}\n",
    "else: # Request data starting from last request date by slicing string.\n",
    "    params = {'start_date': data_list[-1][-10:],\n",
    "            'end_date': f'{today}'}"
   ]
  },
  {
   "cell_type": "code",
   "execution_count": 149,
   "metadata": {},
   "outputs": [
    {
     "data": {
      "text/plain": [
       "{'start_date': '2025-02-18', 'end_date': '2025-02-18'}"
      ]
     },
     "execution_count": 149,
     "metadata": {},
     "output_type": "execute_result"
    }
   ],
   "source": [
    "params"
   ]
  },
  {
   "cell_type": "code",
   "execution_count": 150,
   "metadata": {},
   "outputs": [
    {
     "name": "stdout",
     "output_type": "stream",
     "text": [
      "daily_sleep | batch request status: 200\n",
      "daily_activity | batch request status: 200\n",
      "daily_readiness | batch request status: 200\n",
      "daily_resilience | batch request status: 200\n",
      "daily_stress | batch request status: 200\n",
      "daily_spo2 | batch request status: 200\n",
      "heartrate | batch request status: 200\n",
      "rest_mode_period | batch request status: 200\n",
      "sleep | batch request status: 200\n",
      "sleep_time | batch request status: 200\n",
      "vO2_max | batch request status: 200\n",
      "workout | batch request status: 200\n"
     ]
    }
   ],
   "source": [
    "# TODO: Needs to hold each day's data. List for testing, will transfer to\n",
    "# a more efficient option once implemented.\n",
    "data_batch = {'daily_sleep': [],\n",
    "              'daily_activity': [],\n",
    "              'daily_readiness': [],\n",
    "              'daily_resilience': [],\n",
    "              'daily_stress': [],\n",
    "              'daily_spo2': [],\n",
    "              'heartrate': [],\n",
    "              'rest_mode_period': [],\n",
    "              'sleep': [],\n",
    "              'sleep_time': [],\n",
    "              'vO2_max': [],\n",
    "              'workout': []}\n",
    "\n",
    "for batch in data_batch:\n",
    "    url = f'https://api.ouraring.com/v2/usercollection/{batch}'\n",
    "    headers = {'Authorization': f\"Bearer {private_token['token']}\"}\n",
    "    response = requests.request('GET', url, headers=headers, params=params) \n",
    "    print(f'{batch} | batch request status: {response.status_code}')\n",
    "    data_batch[batch] = response.json()"
   ]
  },
  {
   "cell_type": "code",
   "execution_count": 151,
   "metadata": {},
   "outputs": [],
   "source": [
    "with open(f\"{data_path + '/' + params['start_date']}_to_{params['end_date']}\", 'w') as fout:\n",
    "    json.dump(data_batch, fout)"
   ]
  },
  {
   "cell_type": "code",
   "execution_count": 130,
   "metadata": {},
   "outputs": [
    {
     "name": "stdout",
     "output_type": "stream",
     "text": [
      "10\n",
      "{'id': 'c2537957-7754-41b4-9760-eafd069d4f4e', 'average_breath': 13.875, 'average_heart_rate': 68.625, 'average_hrv': 56, 'awake_time': 2874, 'bedtime_end': '2025-02-15T09:16:56-08:00', 'bedtime_start': '2025-02-15T00:15:02-08:00', 'day': '2025-02-15', 'deep_sleep_duration': 5220, 'efficiency': 91, 'heart_rate': {'interval': 300.0, 'items': [None, 70.0, 68.0, 68.0, 71.0, 69.0, 71.0, 73.0, 68.0, 68.0, 72.0, 77.0, 75.0, 77.0, 70.0, 70.0, 69.0, 69.0, 71.0, 72.0, 72.0, 70.0, 71.0, 72.0, 71.0, 70.0, 70.0, 72.0, 79.0, 80.0, 77.0, 71.0, 72.0, 74.0, 74.0, 75.0, 76.0, 76.0, 75.0, 76.0, 70.0, 70.0, 76.0, 79.0, 82.0, 71.0, 69.0, 69.0, 68.0, 60.0, 59.0, 58.0, 61.0, 64.0, 65.0, 64.0, 65.0, 66.0, 65.0, 66.0, 67.0, 70.0, 74.0, 69.0, 70.0, 71.0, 70.0, 70.0, 70.0, 70.0, 69.0, 65.0, 64.0, 64.0, 66.0, 66.0, 67.0, 65.0, 64.0, 66.0, 65.0, 62.0, 65.0, 67.0, 72.0, 65.0, None, None, 69.0, 66.0, 63.0, 60.0, 64.0, 61.0, 61.0, 60.0, 59.0, 61.0, 63.0, 64.0, 62.0, 58.0, 64.0, None, None, None, None, None, 72.0], 'timestamp': '2025-02-15T00:15:02.000-08:00'}, 'hrv': {'interval': 300.0, 'items': [None, 57.0, 60.0, 57.0, 51.0, 50.0, 42.0, 45.0, 46.0, 40.0, 37.0, 33.0, 36.0, 37.0, 44.0, 46.0, 38.0, 41.0, 33.0, 29.0, 36.0, 45.0, 35.0, 33.0, 33.0, 39.0, 71.0, 52.0, 26.0, 20.0, 30.0, 48.0, 32.0, 23.0, 26.0, 24.0, 24.0, 30.0, 29.0, 34.0, 70.0, 55.0, 32.0, 21.0, 28.0, 44.0, 66.0, 63.0, 79.0, 120.0, 136.0, 154.0, 119.0, 91.0, 101.0, 82.0, 64.0, 55.0, 69.0, 60.0, 62.0, 35.0, 24.0, 45.0, 46.0, 54.0, 46.0, 70.0, 55.0, 52.0, 75.0, 66.0, 64.0, 57.0, 43.0, 32.0, 31.0, 58.0, 65.0, 43.0, 51.0, 75.0, 76.0, 66.0, 25.0, 95.0, None, None, 80.0, 70.0, 78.0, 104.0, 96.0, 96.0, 83.0, 79.0, 93.0, 96.0, 66.0, 51.0, 102.0, 108.0, 93.0, None, None, None, None, None, 36.0], 'timestamp': '2025-02-15T00:15:02.000-08:00'}, 'latency': 390, 'light_sleep_duration': 18210, 'low_battery_alert': False, 'lowest_heart_rate': 58, 'movement_30_sec': '1211111111111211121121111111111111111111111112211111111111111111111111111221111311211111111111111111111111111111111221111121111111111111111212111112111112111112222211111111111111221111111111111111111111132111111111111111111111111111111111111111111111111111113111111111111111112111111111111111111121111111111212111111111111221111111111111111111111111111111111111111111111111111111111111111111111311222111111111111111111111111111111111111122311111111112111111111112111111122111112213111111111111111111111111111111111111111112211111111122332111111112111111111111111111111111111111111111111111111111111111111111111111111111111211111111121111111111121221111121111112211111111112211111111111111111111111221111111111122111211111111111111111111111111111111111111111111111111111111111112111111111111111111211111221211111111111111111111111111111111111111111122121111121111111111112111111111111212223111111111111312121111111112111321111111222211111111111111111111111111111111111111111111111121111111111111111211111111111111111111112111121122112211211111111111111111111111111111111111111112321211', 'period': 0, 'readiness': {'contributors': {'activity_balance': 86, 'body_temperature': 100, 'hrv_balance': 75, 'previous_day_activity': 85, 'previous_night': 98, 'recovery_index': 83, 'resting_heart_rate': 66, 'sleep_balance': 89}, 'score': 83, 'temperature_deviation': -0.09, 'temperature_trend_deviation': -0.25}, 'readiness_score_delta': 0, 'rem_sleep_duration': 6210, 'restless_periods': 229, 'sleep_phase_5_min': '4422121121133322222212111122333222111111233344322222222222222334233333242222122222233424324244222222224222224', 'sleep_score_delta': 0, 'sleep_algorithm_version': 'v2', 'time_in_bed': 32514, 'total_sleep_duration': 29640, 'type': 'long_sleep'}\n"
     ]
    }
   ],
   "source": [
    "test_var = 'sleep'\n",
    "print(len(data_batch[test_var]['data']))\n",
    "print(data_batch[test_var]['data'][-1])"
   ]
  },
  {
   "cell_type": "code",
   "execution_count": 131,
   "metadata": {},
   "outputs": [
    {
     "name": "stdout",
     "output_type": "stream",
     "text": [
      "2025-02-03\n",
      "2025-02-05\n",
      "2025-02-06\n",
      "2025-02-08\n",
      "2025-02-09\n",
      "2025-02-11\n",
      "2025-02-12\n",
      "2025-02-13\n",
      "2025-02-14\n",
      "2025-02-15\n"
     ]
    }
   ],
   "source": [
    "for i in data_batch[test_var]['data']:\n",
    "# data_batch[test_var]['data'][0]['timestamp'][0:10] # For heartrate\n",
    "    print(i['day'])"
   ]
  }
 ],
 "metadata": {
  "kernelspec": {
   "display_name": "Python 3",
   "language": "python",
   "name": "python3"
  },
  "language_info": {
   "codemirror_mode": {
    "name": "ipython",
    "version": 3
   },
   "file_extension": ".py",
   "mimetype": "text/x-python",
   "name": "python",
   "nbconvert_exporter": "python",
   "pygments_lexer": "ipython3",
   "version": "3.11.11"
  }
 },
 "nbformat": 4,
 "nbformat_minor": 2
}
