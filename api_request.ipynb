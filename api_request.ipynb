{
 "cells": [
  {
   "cell_type": "code",
   "execution_count": 74,
   "metadata": {},
   "outputs": [],
   "source": [
    "import requests\n",
    "import json\n",
    "from datetime import datetime\n",
    "\n",
    "with open('private_token.json') as f:\n",
    "    private_token = json.load(f)\n",
    "\n",
    "# TODO Start logging last API pull date to change start_date.\n",
    "# Also need to ensure it isn't capturing half days or deals with it.\n",
    "today = datetime.today().strftime('%Y-%m-%d')\n",
    "params = {'start_date': '2025-02-03', # Real beginning - 2023-02-03\n",
    "            'end_date': f'{today}'}"
   ]
  },
  {
   "cell_type": "code",
   "execution_count": 75,
   "metadata": {},
   "outputs": [
    {
     "name": "stdout",
     "output_type": "stream",
     "text": [
      "daily_sleep | batch request status: 200\n",
      "daily_activity | batch request status: 200\n",
      "daily_readiness | batch request status: 200\n",
      "daily_resilience | batch request status: 200\n",
      "daily_stress | batch request status: 200\n",
      "daily_spo2 | batch request status: 200\n",
      "heartrate | batch request status: 200\n",
      "rest_mode_period | batch request status: 200\n",
      "sleep | batch request status: 200\n",
      "sleep_time | batch request status: 200\n",
      "vO2_max | batch request status: 200\n",
      "workout | batch request status: 200\n"
     ]
    }
   ],
   "source": [
    "# TODO Needs to hold each day's data. List for testing, will transfer to\n",
    "# a more efficient option once implemented.\n",
    "data_batch = {'daily_sleep': [],\n",
    "              'daily_activity': [],\n",
    "              'daily_readiness': [],\n",
    "              'daily_resilience': [],\n",
    "              'daily_stress': [],\n",
    "              'daily_spo2': [],\n",
    "              'heartrate': [],\n",
    "              'rest_mode_period': [],\n",
    "              'sleep': [],\n",
    "              'sleep_time': [],\n",
    "              'vO2_max': [],\n",
    "              'workout': []}\n",
    "\n",
    "for batch in data_batch:\n",
    "    url = f'https://api.ouraring.com/v2/usercollection/{batch}'\n",
    "    headers = {'Authorization': f\"Bearer {private_token['token']}\"}\n",
    "    response = requests.request('GET', url, headers=headers, params=params) \n",
    "    print(f'{batch} | batch request status: {response.status_code}')\n",
    "    data_batch[batch] = response.json()"
   ]
  },
  {
   "cell_type": "code",
   "execution_count": 110,
   "metadata": {},
   "outputs": [
    {
     "name": "stdout",
     "output_type": "stream",
     "text": [
      "8\n",
      "{'id': '1240d791-4ce9-4bac-9717-a51e969006ad', 'average_breath': 13.25, 'average_heart_rate': 59.125, 'average_hrv': 76, 'awake_time': 6810, 'bedtime_end': '2025-02-13T08:22:03-08:00', 'bedtime_start': '2025-02-12T23:56:03-08:00', 'day': '2025-02-13', 'deep_sleep_duration': 4740, 'efficiency': 78, 'heart_rate': {'interval': 300.0, 'items': [None, 58.0, 54.0, 57.0, 53.0, 56.0, 55.0, 57.0, 57.0, 57.0, 58.0, 62.0, 67.0, 68.0, 63.0, 61.0, 62.0, 61.0, 61.0, 60.0, 59.0, 60.0, 60.0, 61.0, 58.0, 59.0, 59.0, 60.0, 58.0, 57.0, 63.0, 65.0, 64.0, 57.0, 56.0, 63.0, 60.0, 60.0, 57.0, 60.0, 61.0, 55.0, 56.0, None, 58.0, 59.0, 60.0, 59.0, None, 58.0, 61.0, 62.0, 62.0, 63.0, 62.0, 63.0, 58.0, 62.0, 62.0, 64.0, 59.0, 61.0, 61.0, 60.0, 61.0, 61.0, 62.0, 58.0, 59.0, 59.0, 56.0, 59.0, 60.0, 56.0, 59.0, 56.0, 61.0, 60.0, 56.0, None, None, None, 60.0, 60.0, 60.0, None, 61.0, 59.0, None, None, None, None, None, None, None, 49.0, 48.0, 47.0, 52.0, None, None], 'timestamp': '2025-02-12T23:56:03.000-08:00'}, 'hrv': {'interval': 300.0, 'items': [None, 107.0, 115.0, 111.0, 121.0, 103.0, 89.0, 78.0, 68.0, 100.0, 103.0, 62.0, 54.0, 61.0, 73.0, 75.0, 54.0, 49.0, 37.0, 59.0, 67.0, 48.0, 54.0, 45.0, 71.0, 71.0, 68.0, 50.0, 57.0, 123.0, 55.0, 47.0, 94.0, 101.0, 112.0, 72.0, 88.0, 89.0, 113.0, 101.0, 68.0, 116.0, 79.0, None, 54.0, 44.0, 47.0, 65.0, None, 89.0, 48.0, 42.0, 37.0, 39.0, 62.0, 58.0, 111.0, 68.0, 94.0, 74.0, 101.0, 72.0, 65.0, 79.0, 89.0, 85.0, 78.0, 78.0, 59.0, 66.0, 91.0, 73.0, 69.0, 99.0, 56.0, 151.0, 99.0, 114.0, 143.0, None, None, None, 97.0, 111.0, 90.0, None, 102.0, 124.0, None, None, None, None, None, None, None, 141.0, 167.0, 165.0, 163.0, None, None], 'timestamp': '2025-02-12T23:56:03.000-08:00'}, 'latency': 480, 'light_sleep_duration': 13590, 'low_battery_alert': False, 'lowest_heart_rate': 47, 'movement_30_sec': '1111111123111231211111121111111321111211111111111111111111211111111111111111111211111111111111111111111112111111111111111111111111112111111111122111111111111111111111111111111111111111111111111111111112132111111111111111112111111111111111111221111111111111111111111111111111111111112122111111111111111111111111111111112113111111111111111111111111111111111112121111111111111111211111111111111112211111111112111111111111111211111111111111112211111111111111111111111111111112221111111111111221211111111111111111111111111111111111111111111111111111111111111111112211111111111111111121111111111111111122121111111111111111111112111111211112111111112111111211111111111121111211111111111111111111111122111111211111111111111111111122212111111111111111111121221111111131221111111112321111111111123333331121112111212111112333222211112121111111232222232222121221222222322222212221221111123333212112222222111211222211121211212222212222311111111111112111111111221111111322232111111111111111111131111123321211232222221222222222', 'period': 0, 'readiness': {'contributors': {'activity_balance': 74, 'body_temperature': 93, 'hrv_balance': 60, 'previous_day_activity': 0, 'previous_night': 82, 'recovery_index': 10, 'resting_heart_rate': 81, 'sleep_balance': 90}, 'score': 70, 'temperature_deviation': -0.34, 'temperature_trend_deviation': -0.11}, 'readiness_score_delta': 0, 'rem_sleep_duration': 5220, 'restless_periods': 185, 'sleep_phase_5_min': '422422211221233222212212111112334223333332222111222211112333222333322222222244244444444344444222224444', 'sleep_score_delta': 0, 'sleep_algorithm_version': 'v2', 'time_in_bed': 30360, 'total_sleep_duration': 23550, 'type': 'long_sleep'}\n"
     ]
    }
   ],
   "source": [
    "test_var = 'sleep'\n",
    "print(len(data_batch[test_var]['data']))\n",
    "print(data_batch[test_var]['data'][-1])"
   ]
  },
  {
   "cell_type": "code",
   "execution_count": 112,
   "metadata": {},
   "outputs": [
    {
     "name": "stdout",
     "output_type": "stream",
     "text": [
      "2025-02-03\n",
      "2025-02-05\n",
      "2025-02-06\n",
      "2025-02-08\n",
      "2025-02-09\n",
      "2025-02-11\n",
      "2025-02-12\n",
      "2025-02-13\n"
     ]
    }
   ],
   "source": [
    "for i in data_batch[test_var]['data']:\n",
    "# data_batch[test_var]['data'][0]['timestamp'][0:10] # For heartrate\n",
    "    print(i['day'])"
   ]
  }
 ],
 "metadata": {
  "kernelspec": {
   "display_name": "Python 3",
   "language": "python",
   "name": "python3"
  },
  "language_info": {
   "codemirror_mode": {
    "name": "ipython",
    "version": 3
   },
   "file_extension": ".py",
   "mimetype": "text/x-python",
   "name": "python",
   "nbconvert_exporter": "python",
   "pygments_lexer": "ipython3",
   "version": "3.11.11"
  }
 },
 "nbformat": 4,
 "nbformat_minor": 2
}
