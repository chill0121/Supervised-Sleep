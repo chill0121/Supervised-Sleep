{
 "cells": [
  {
   "cell_type": "markdown",
   "metadata": {},
   "source": [
    "## Sleep Quality Prediction - Supervised Machine Learning\n",
    "\n",
    "---\n",
    "\n",
    "by: Cody Hill\n",
    "\n",
    "date: 1/18/2023"
   ]
  },
  {
   "cell_type": "markdown",
   "metadata": {},
   "source": [
    "### Data Source Information\n",
    "\n",
    "### [ ADD LICENSE INFORMATION AND FAIR USE INFO]"
   ]
  },
  {
   "cell_type": "code",
   "execution_count": 117,
   "metadata": {},
   "outputs": [],
   "source": [
    "import os\n",
    "import numpy as np\n",
    "import pandas as pd\n",
    "import sklearn\n",
    "from sklearn.metrics import confusion_matrix, ConfusionMatrixDisplay\n",
    "import matplotlib.pyplot as plt"
   ]
  },
  {
   "cell_type": "markdown",
   "metadata": {},
   "source": [
    "### Exploratory Data Analysis (EDA)"
   ]
  },
  {
   "cell_type": "code",
   "execution_count": 118,
   "metadata": {},
   "outputs": [],
   "source": [
    "# Import data\n",
    "# TODO: Switch this to the github urls for the data so others can use.\n",
    "data_folder = '/Users/chill/GitHub/Supervised-Sleep/Data'\n",
    "sleep_data_folder = '/Users/chill/GitHub/Supervised-Sleep/Data/Sleep_Data'\n",
    "\n",
    "# Iterate through each file in .Data/ and add it to a dataframe.\n",
    "file_path = [f'{data_folder}/{file}' for file in os.listdir(data_folder) if '.csv' in file]\n",
    "# Using a list to concat the dfs with index_col allows to easily merge based on 'day'. More memory usage but fine for this project.\n",
    "biometric_df = pd.concat([pd.read_csv(file, index_col = 'day') for file in file_path], join = 'outer', ignore_index = False, axis = 1).reset_index()\n",
    "\n",
    "# Iterate through each file in .Data/Sleep_Data and add it to a dataframe.\n",
    "# Separated sleep data as it potentially has multiple entries per day. Will merge them later.\n",
    "file_path_sleep = [f'{sleep_data_folder}/{file}' for file in os.listdir(sleep_data_folder) if '.csv' in file and 'daily' not in file]\n",
    "sleep_df = pd.concat(map(pd.read_csv, file_path_sleep), join = 'outer', ignore_index = False, axis = 1)"
   ]
  },
  {
   "cell_type": "code",
   "execution_count": 119,
   "metadata": {},
   "outputs": [
    {
     "name": "stdout",
     "output_type": "stream",
     "text": [
      "(350, 42)\n"
     ]
    },
    {
     "data": {
      "text/html": [
       "<div>\n",
       "<style scoped>\n",
       "    .dataframe tbody tr th:only-of-type {\n",
       "        vertical-align: middle;\n",
       "    }\n",
       "\n",
       "    .dataframe tbody tr th {\n",
       "        vertical-align: top;\n",
       "    }\n",
       "\n",
       "    .dataframe thead th {\n",
       "        text-align: right;\n",
       "    }\n",
       "</style>\n",
       "<table border=\"1\" class=\"dataframe\">\n",
       "  <thead>\n",
       "    <tr style=\"text-align: right;\">\n",
       "      <th></th>\n",
       "      <th>day</th>\n",
       "      <th>spo2_percentage</th>\n",
       "      <th>active_calories</th>\n",
       "      <th>average_met_minutes</th>\n",
       "      <th>equivalent_walking_distance</th>\n",
       "      <th>high_activity_met_minutes</th>\n",
       "      <th>high_activity_time</th>\n",
       "      <th>inactivity_alerts</th>\n",
       "      <th>low_activity_met_minutes</th>\n",
       "      <th>low_activity_time</th>\n",
       "      <th>...</th>\n",
       "      <th>temperature_deviation</th>\n",
       "      <th>temperature_trend_deviation</th>\n",
       "      <th>contributors_activity_balance</th>\n",
       "      <th>contributors_hrv_balance</th>\n",
       "      <th>contributors_previous_day_activity</th>\n",
       "      <th>contributors_previous_night</th>\n",
       "      <th>contributors_recovery_index</th>\n",
       "      <th>contributors_resting_heart_rate</th>\n",
       "      <th>contributors_sleep_balance</th>\n",
       "      <th>contributors_body_temperature</th>\n",
       "    </tr>\n",
       "  </thead>\n",
       "  <tbody>\n",
       "    <tr>\n",
       "      <th>0</th>\n",
       "      <td>2023-02-04</td>\n",
       "      <td>98.523</td>\n",
       "      <td>650</td>\n",
       "      <td>1.59375</td>\n",
       "      <td>10728</td>\n",
       "      <td>16</td>\n",
       "      <td>120</td>\n",
       "      <td>0</td>\n",
       "      <td>277</td>\n",
       "      <td>23220</td>\n",
       "      <td>...</td>\n",
       "      <td>-0.38</td>\n",
       "      <td>NaN</td>\n",
       "      <td>NaN</td>\n",
       "      <td>NaN</td>\n",
       "      <td>96.0</td>\n",
       "      <td>74.0</td>\n",
       "      <td>97.0</td>\n",
       "      <td>94.0</td>\n",
       "      <td>NaN</td>\n",
       "      <td>90.0</td>\n",
       "    </tr>\n",
       "    <tr>\n",
       "      <th>1</th>\n",
       "      <td>2023-02-05</td>\n",
       "      <td>97.181</td>\n",
       "      <td>498</td>\n",
       "      <td>1.43750</td>\n",
       "      <td>8458</td>\n",
       "      <td>8</td>\n",
       "      <td>60</td>\n",
       "      <td>0</td>\n",
       "      <td>204</td>\n",
       "      <td>15000</td>\n",
       "      <td>...</td>\n",
       "      <td>-0.04</td>\n",
       "      <td>0.15</td>\n",
       "      <td>NaN</td>\n",
       "      <td>NaN</td>\n",
       "      <td>82.0</td>\n",
       "      <td>79.0</td>\n",
       "      <td>100.0</td>\n",
       "      <td>59.0</td>\n",
       "      <td>NaN</td>\n",
       "      <td>100.0</td>\n",
       "    </tr>\n",
       "  </tbody>\n",
       "</table>\n",
       "<p>2 rows × 42 columns</p>\n",
       "</div>"
      ],
      "text/plain": [
       "          day  spo2_percentage  active_calories  average_met_minutes  \\\n",
       "0  2023-02-04           98.523              650              1.59375   \n",
       "1  2023-02-05           97.181              498              1.43750   \n",
       "\n",
       "   equivalent_walking_distance  high_activity_met_minutes  high_activity_time  \\\n",
       "0                        10728                         16                 120   \n",
       "1                         8458                          8                  60   \n",
       "\n",
       "   inactivity_alerts  low_activity_met_minutes  low_activity_time  ...  \\\n",
       "0                  0                       277              23220  ...   \n",
       "1                  0                       204              15000  ...   \n",
       "\n",
       "   temperature_deviation  temperature_trend_deviation  \\\n",
       "0                  -0.38                          NaN   \n",
       "1                  -0.04                         0.15   \n",
       "\n",
       "   contributors_activity_balance  contributors_hrv_balance  \\\n",
       "0                            NaN                       NaN   \n",
       "1                            NaN                       NaN   \n",
       "\n",
       "   contributors_previous_day_activity  contributors_previous_night  \\\n",
       "0                                96.0                         74.0   \n",
       "1                                82.0                         79.0   \n",
       "\n",
       "   contributors_recovery_index  contributors_resting_heart_rate  \\\n",
       "0                         97.0                             94.0   \n",
       "1                        100.0                             59.0   \n",
       "\n",
       "   contributors_sleep_balance  contributors_body_temperature  \n",
       "0                         NaN                           90.0  \n",
       "1                         NaN                          100.0  \n",
       "\n",
       "[2 rows x 42 columns]"
      ]
     },
     "metadata": {},
     "output_type": "display_data"
    }
   ],
   "source": [
    "print(biometric_df.shape)\n",
    "display(biometric_df.head(2))\n"
   ]
  },
  {
   "cell_type": "code",
   "execution_count": 120,
   "metadata": {},
   "outputs": [
    {
     "name": "stdout",
     "output_type": "stream",
     "text": [
      "(685, 47)\n"
     ]
    },
    {
     "data": {
      "text/html": [
       "<div>\n",
       "<style scoped>\n",
       "    .dataframe tbody tr th:only-of-type {\n",
       "        vertical-align: middle;\n",
       "    }\n",
       "\n",
       "    .dataframe tbody tr th {\n",
       "        vertical-align: top;\n",
       "    }\n",
       "\n",
       "    .dataframe thead th {\n",
       "        text-align: right;\n",
       "    }\n",
       "</style>\n",
       "<table border=\"1\" class=\"dataframe\">\n",
       "  <thead>\n",
       "    <tr style=\"text-align: right;\">\n",
       "      <th></th>\n",
       "      <th>average_breath</th>\n",
       "      <th>average_heart_rate</th>\n",
       "      <th>average_hrv</th>\n",
       "      <th>awake_time</th>\n",
       "      <th>bedtime_end</th>\n",
       "      <th>bedtime_start</th>\n",
       "      <th>day</th>\n",
       "      <th>deep_sleep_duration</th>\n",
       "      <th>efficiency</th>\n",
       "      <th>latency</th>\n",
       "      <th>...</th>\n",
       "      <th>readiness_contributors_body_temperature</th>\n",
       "      <th>readiness_contributors_hrv_balance</th>\n",
       "      <th>readiness_contributors_previous_day_activity</th>\n",
       "      <th>readiness_contributors_previous_night</th>\n",
       "      <th>readiness_contributors_recovery_index</th>\n",
       "      <th>readiness_contributors_resting_heart_rate</th>\n",
       "      <th>readiness_contributors_sleep_balance</th>\n",
       "      <th>readiness_score</th>\n",
       "      <th>readiness_temperature_deviation</th>\n",
       "      <th>readiness_temperature_trend_deviation</th>\n",
       "    </tr>\n",
       "  </thead>\n",
       "  <tbody>\n",
       "    <tr>\n",
       "      <th>0</th>\n",
       "      <td>13.625</td>\n",
       "      <td>63.25</td>\n",
       "      <td>77.0</td>\n",
       "      <td>4440.0</td>\n",
       "      <td>2023-02-04T07:08:22.000-06:00</td>\n",
       "      <td>2023-02-03T22:40:22.000-06:00</td>\n",
       "      <td>2023-02-04</td>\n",
       "      <td>4650.0</td>\n",
       "      <td>85.0</td>\n",
       "      <td>990.0</td>\n",
       "      <td>...</td>\n",
       "      <td>90.0</td>\n",
       "      <td>NaN</td>\n",
       "      <td>96.0</td>\n",
       "      <td>74.0</td>\n",
       "      <td>97.0</td>\n",
       "      <td>94.0</td>\n",
       "      <td>NaN</td>\n",
       "      <td>89.0</td>\n",
       "      <td>-0.38</td>\n",
       "      <td>NaN</td>\n",
       "    </tr>\n",
       "    <tr>\n",
       "      <th>1</th>\n",
       "      <td>15.125</td>\n",
       "      <td>92.49</td>\n",
       "      <td>19.0</td>\n",
       "      <td>6210.0</td>\n",
       "      <td>2023-02-05T09:37:28.000-06:00</td>\n",
       "      <td>2023-02-04T23:54:28.000-06:00</td>\n",
       "      <td>2023-02-05</td>\n",
       "      <td>4590.0</td>\n",
       "      <td>82.0</td>\n",
       "      <td>180.0</td>\n",
       "      <td>...</td>\n",
       "      <td>100.0</td>\n",
       "      <td>NaN</td>\n",
       "      <td>82.0</td>\n",
       "      <td>79.0</td>\n",
       "      <td>100.0</td>\n",
       "      <td>59.0</td>\n",
       "      <td>NaN</td>\n",
       "      <td>78.0</td>\n",
       "      <td>-0.04</td>\n",
       "      <td>0.15</td>\n",
       "    </tr>\n",
       "  </tbody>\n",
       "</table>\n",
       "<p>2 rows × 47 columns</p>\n",
       "</div>"
      ],
      "text/plain": [
       "   average_breath  average_heart_rate  average_hrv  awake_time  \\\n",
       "0          13.625               63.25         77.0      4440.0   \n",
       "1          15.125               92.49         19.0      6210.0   \n",
       "\n",
       "                     bedtime_end                  bedtime_start         day  \\\n",
       "0  2023-02-04T07:08:22.000-06:00  2023-02-03T22:40:22.000-06:00  2023-02-04   \n",
       "1  2023-02-05T09:37:28.000-06:00  2023-02-04T23:54:28.000-06:00  2023-02-05   \n",
       "\n",
       "   deep_sleep_duration  efficiency  latency  ...  \\\n",
       "0               4650.0        85.0    990.0  ...   \n",
       "1               4590.0        82.0    180.0  ...   \n",
       "\n",
       "   readiness_contributors_body_temperature  \\\n",
       "0                                     90.0   \n",
       "1                                    100.0   \n",
       "\n",
       "   readiness_contributors_hrv_balance  \\\n",
       "0                                 NaN   \n",
       "1                                 NaN   \n",
       "\n",
       "  readiness_contributors_previous_day_activity  \\\n",
       "0                                         96.0   \n",
       "1                                         82.0   \n",
       "\n",
       "   readiness_contributors_previous_night  \\\n",
       "0                                   74.0   \n",
       "1                                   79.0   \n",
       "\n",
       "   readiness_contributors_recovery_index  \\\n",
       "0                                   97.0   \n",
       "1                                  100.0   \n",
       "\n",
       "   readiness_contributors_resting_heart_rate  \\\n",
       "0                                       94.0   \n",
       "1                                       59.0   \n",
       "\n",
       "   readiness_contributors_sleep_balance readiness_score  \\\n",
       "0                                   NaN            89.0   \n",
       "1                                   NaN            78.0   \n",
       "\n",
       "   readiness_temperature_deviation  readiness_temperature_trend_deviation  \n",
       "0                            -0.38                                    NaN  \n",
       "1                            -0.04                                   0.15  \n",
       "\n",
       "[2 rows x 47 columns]"
      ]
     },
     "metadata": {},
     "output_type": "display_data"
    }
   ],
   "source": [
    "print(sleep_df.shape)\n",
    "display(sleep_df.head(2))"
   ]
  },
  {
   "cell_type": "code",
   "execution_count": 121,
   "metadata": {},
   "outputs": [
    {
     "data": {
      "text/plain": [
       "Index(['day', 'spo2_percentage', 'active_calories', 'average_met_minutes',\n",
       "       'equivalent_walking_distance', 'high_activity_met_minutes',\n",
       "       'high_activity_time', 'inactivity_alerts', 'low_activity_met_minutes',\n",
       "       'low_activity_time', 'medium_activity_met_minutes',\n",
       "       'medium_activity_time', 'meters_to_target', 'non_wear_time',\n",
       "       'resting_time', 'sedentary_met_minutes', 'sedentary_time', 'steps',\n",
       "       'target_calories', 'target_meters', 'total_calories', 'score',\n",
       "       'class_5_min', 'contributors_meet_daily_targets',\n",
       "       'contributors_move_every_hour', 'contributors_recovery_time',\n",
       "       'contributors_stay_active', 'contributors_training_frequency',\n",
       "       'contributors_training_volume', 'met_1_min', 'ring_met_1_min', 'score',\n",
       "       'temperature_deviation', 'temperature_trend_deviation',\n",
       "       'contributors_activity_balance', 'contributors_hrv_balance',\n",
       "       'contributors_previous_day_activity', 'contributors_previous_night',\n",
       "       'contributors_recovery_index', 'contributors_resting_heart_rate',\n",
       "       'contributors_sleep_balance', 'contributors_body_temperature'],\n",
       "      dtype='object')"
      ]
     },
     "execution_count": 121,
     "metadata": {},
     "output_type": "execute_result"
    }
   ],
   "source": [
    "biometric_df.columns"
   ]
  },
  {
   "cell_type": "markdown",
   "metadata": {},
   "source": [
    "As we can see, the Oura Ring tracks and records many biometrics, and with that raw biometric data they use different equations and feature engineering to assign a daily score to categories such as sleep, recovery, readiness, activity, etc. totalling 86 features. Since the purpose of this is to create our own sleep score predictive model, we can use Oura's sleep score as our ground truth label (y_train) in training and validation. Furthermore, we must remove the features with labels that include \"contributors\" as these columns contain normalized scores which Oura's models have output that are then used to average out into the final score."
   ]
  },
  {
   "cell_type": "code",
   "execution_count": 122,
   "metadata": {},
   "outputs": [
    {
     "data": {
      "text/plain": [
       "(350, 26)"
      ]
     },
     "execution_count": 122,
     "metadata": {},
     "output_type": "execute_result"
    }
   ],
   "source": [
    "# Remove contributor and score columns (multiple scores involved, will add truth label later).\n",
    "biometric_df = biometric_df.loc[:, ~biometric_df.columns.str.contains('contributors|score')]\n",
    "biometric_df.shape"
   ]
  },
  {
   "cell_type": "markdown",
   "metadata": {},
   "source": [
    "We've removed 31 feature columns containing the word contributors.\n",
    "\n",
    "Now we will remove all columns that won't be used in feature engineering or the final model.\n",
    "Then complete data munging by formatting all the features (float, int, dates, dummy/indicator encoding)."
   ]
  },
  {
   "cell_type": "code",
   "execution_count": 123,
   "metadata": {},
   "outputs": [
    {
     "data": {
      "text/plain": [
       "Index(['day', 'spo2_percentage', 'active_calories', 'average_met_minutes',\n",
       "       'equivalent_walking_distance', 'high_activity_met_minutes',\n",
       "       'high_activity_time', 'inactivity_alerts', 'low_activity_met_minutes',\n",
       "       'low_activity_time', 'medium_activity_met_minutes',\n",
       "       'medium_activity_time', 'meters_to_target', 'non_wear_time',\n",
       "       'resting_time', 'sedentary_met_minutes', 'sedentary_time', 'steps',\n",
       "       'target_calories', 'target_meters', 'total_calories', 'class_5_min',\n",
       "       'met_1_min', 'ring_met_1_min', 'temperature_deviation',\n",
       "       'temperature_trend_deviation'],\n",
       "      dtype='object')"
      ]
     },
     "execution_count": 123,
     "metadata": {},
     "output_type": "execute_result"
    }
   ],
   "source": [
    "biometric_df.columns"
   ]
  },
  {
   "cell_type": "code",
   "execution_count": 124,
   "metadata": {},
   "outputs": [],
   "source": [
    "# # TODO: oura_sleep_2024-01.csv\n",
    "# - Nap on day encoding\n",
    "#   - list(where [type] != long_sleep && between 10 AM - 7 PM)\n",
    "#   - sum(types of sleep duration)\n",
    "# - restless_periods vs sum(movement_30_sec)??\n",
    "# - Only one day per entry\n",
    "#   - Sum each day sleep durations, restless_periods, awake_time, time_in_bed, total_sleep_duration\n",
    "#       - awake_time = time_in_bed - total_sleep_duration ??\n",
    "#   - Save only the [type] == long_sleep, average_breath, average_heart_rate, average_hrv, latency, \n",
    "#       lowest_heart_rate, betime_start_delta\n",
    "# - Remove: efficiency, period, score, segment_state, sleep_midpoint, sleep_phase_5_min, movement_30_sec, timezone, \n",
    "#       betime_end_delta, midpoint_at_delta, heart_rate_5_min, hrv_5_min\n",
    "\n",
    "# # TODO: oura_daily-activity_2024-01.csv\n",
    "# - Remove: average_met_minutes, equivalent_walking_distance, high_activity_met_minutes, inactivity_alerts, \n",
    "#       low_activity_met_minutes, medium_activity_met_minutes, sedentary_met_minutes, target_calories, target_meters, score,\n",
    "#       class_5_min, met_1_min, ring_met_1_min\n",
    "\n",
    "# # TODO: oura_daily-readiness_2024-01.csv\n",
    "# - Remove: score, temperature_trend_deviation\n",
    "\n",
    "# # TODO: oura_daily--spo2_2024-01.csv\n",
    "# - N/A\n",
    "# -\n",
    "# -\n",
    "\n",
    "# # TODO: General\n",
    "# - Collinearity between features checks in model selection\n",
    "# - \n",
    "# - "
   ]
  },
  {
   "cell_type": "code",
   "execution_count": 125,
   "metadata": {},
   "outputs": [
    {
     "data": {
      "text/html": [
       "<div>\n",
       "<style scoped>\n",
       "    .dataframe tbody tr th:only-of-type {\n",
       "        vertical-align: middle;\n",
       "    }\n",
       "\n",
       "    .dataframe tbody tr th {\n",
       "        vertical-align: top;\n",
       "    }\n",
       "\n",
       "    .dataframe thead th {\n",
       "        text-align: right;\n",
       "    }\n",
       "</style>\n",
       "<table border=\"1\" class=\"dataframe\">\n",
       "  <thead>\n",
       "    <tr style=\"text-align: right;\">\n",
       "      <th></th>\n",
       "      <th>day</th>\n",
       "      <th>spo2_percentage</th>\n",
       "      <th>active_calories</th>\n",
       "      <th>average_met_minutes</th>\n",
       "      <th>equivalent_walking_distance</th>\n",
       "      <th>high_activity_met_minutes</th>\n",
       "      <th>high_activity_time</th>\n",
       "      <th>inactivity_alerts</th>\n",
       "      <th>low_activity_met_minutes</th>\n",
       "      <th>low_activity_time</th>\n",
       "      <th>...</th>\n",
       "      <th>sedentary_time</th>\n",
       "      <th>steps</th>\n",
       "      <th>target_calories</th>\n",
       "      <th>target_meters</th>\n",
       "      <th>total_calories</th>\n",
       "      <th>class_5_min</th>\n",
       "      <th>met_1_min</th>\n",
       "      <th>ring_met_1_min</th>\n",
       "      <th>temperature_deviation</th>\n",
       "      <th>temperature_trend_deviation</th>\n",
       "    </tr>\n",
       "  </thead>\n",
       "  <tbody>\n",
       "    <tr>\n",
       "      <th>324</th>\n",
       "      <td>2024-01-14</td>\n",
       "      <td>NaN</td>\n",
       "      <td>439</td>\n",
       "      <td>1.375</td>\n",
       "      <td>7630</td>\n",
       "      <td>0</td>\n",
       "      <td>0</td>\n",
       "      <td>0</td>\n",
       "      <td>212</td>\n",
       "      <td>15000</td>\n",
       "      <td>...</td>\n",
       "      <td>20100</td>\n",
       "      <td>7651</td>\n",
       "      <td>500</td>\n",
       "      <td>10000</td>\n",
       "      <td>2713</td>\n",
       "      <td>1111111111111111111111111111111111111111111111...</td>\n",
       "      <td>1.2;1.2;1.0;1.0;0.9;0.9;1.1;0.9;0.9;1.0;0.9;0....</td>\n",
       "      <td>1.2;1.2;1.0;1.0;0.9;0.9;1.1;0.9;0.9;1.0;0.9;0....</td>\n",
       "      <td>-0.12</td>\n",
       "      <td>0.1</td>\n",
       "    </tr>\n",
       "  </tbody>\n",
       "</table>\n",
       "<p>1 rows × 26 columns</p>\n",
       "</div>"
      ],
      "text/plain": [
       "            day  spo2_percentage  active_calories  average_met_minutes  \\\n",
       "324  2024-01-14              NaN              439                1.375   \n",
       "\n",
       "     equivalent_walking_distance  high_activity_met_minutes  \\\n",
       "324                         7630                          0   \n",
       "\n",
       "     high_activity_time  inactivity_alerts  low_activity_met_minutes  \\\n",
       "324                   0                  0                       212   \n",
       "\n",
       "     low_activity_time  ...  sedentary_time  steps  target_calories  \\\n",
       "324              15000  ...           20100   7651              500   \n",
       "\n",
       "     target_meters  total_calories  \\\n",
       "324          10000            2713   \n",
       "\n",
       "                                           class_5_min  \\\n",
       "324  1111111111111111111111111111111111111111111111...   \n",
       "\n",
       "                                             met_1_min  \\\n",
       "324  1.2;1.2;1.0;1.0;0.9;0.9;1.1;0.9;0.9;1.0;0.9;0....   \n",
       "\n",
       "                                        ring_met_1_min  temperature_deviation  \\\n",
       "324  1.2;1.2;1.0;1.0;0.9;0.9;1.1;0.9;0.9;1.0;0.9;0....                  -0.12   \n",
       "\n",
       "     temperature_trend_deviation  \n",
       "324                          0.1  \n",
       "\n",
       "[1 rows x 26 columns]"
      ]
     },
     "execution_count": 125,
     "metadata": {},
     "output_type": "execute_result"
    }
   ],
   "source": [
    "biometric_df.loc[biometric_df['day'] == '2024-01-14']"
   ]
  },
  {
   "cell_type": "code",
   "execution_count": 126,
   "metadata": {},
   "outputs": [
    {
     "data": {
      "text/plain": [
       "0"
      ]
     },
     "execution_count": 126,
     "metadata": {},
     "output_type": "execute_result"
    }
   ],
   "source": [
    "biometric_df['day'].duplicated().sum()"
   ]
  }
 ],
 "metadata": {
  "kernelspec": {
   "display_name": "Python 3",
   "language": "python",
   "name": "python3"
  },
  "language_info": {
   "codemirror_mode": {
    "name": "ipython",
    "version": 3
   },
   "file_extension": ".py",
   "mimetype": "text/x-python",
   "name": "python",
   "nbconvert_exporter": "python",
   "pygments_lexer": "ipython3",
   "version": "3.11.7"
  }
 },
 "nbformat": 4,
 "nbformat_minor": 2
}
